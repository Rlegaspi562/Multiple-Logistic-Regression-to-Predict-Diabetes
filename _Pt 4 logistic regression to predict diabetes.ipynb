{
 "cells": [
  {
   "cell_type": "markdown",
   "metadata": {},
   "source": [
    "## Pima Native American Indian Diabetes dataset. Using multiple logistic regression to predict diabetes.\n"
   ]
  },
  {
   "cell_type": "markdown",
   "metadata": {},
   "source": [
    "## 1. Preparing environment"
   ]
  },
  {
   "cell_type": "code",
   "execution_count": 36,
   "metadata": {},
   "outputs": [],
   "source": [
    "\n",
    "# Setting my working directory\n",
    "setwd(\"C:/Users/Rumil/Datasets\")\n",
    "\n",
    "#importing my dataset and creating the object diabetes, for the diabetes dataset\n",
    "diabetes_data <- read.csv(\"C:/Users/Rumil/Datasets/pima_indians_diabetes.csv\")\n",
    "\n",
    "#loading in packages for R\n",
    "library(tidyverse)\n",
    "library(reshape2)\n",
    "library(ggplot2)\n",
    "library(ggcorrplot)"
   ]
  },
  {
   "cell_type": "markdown",
   "metadata": {},
   "source": [
    "## 2. Dataset Overview"
   ]
  },
  {
   "cell_type": "code",
   "execution_count": 37,
   "metadata": {},
   "outputs": [
    {
     "data": {
      "text/html": [
       "<table>\n",
       "<thead><tr><th scope=col>Pregnancies</th><th scope=col>Glucose</th><th scope=col>BloodPressure</th><th scope=col>SkinThickness</th><th scope=col>Insulin</th><th scope=col>BMI</th><th scope=col>DiabetesPedigreeFunction</th><th scope=col>Age</th><th scope=col>Outcome</th></tr></thead>\n",
       "<tbody>\n",
       "\t<tr><td>6    </td><td>148  </td><td>72   </td><td>35   </td><td>  0  </td><td>33.6 </td><td>0.627</td><td>50   </td><td>1    </td></tr>\n",
       "\t<tr><td>1    </td><td> 85  </td><td>66   </td><td>29   </td><td>  0  </td><td>26.6 </td><td>0.351</td><td>31   </td><td>0    </td></tr>\n",
       "\t<tr><td>8    </td><td>183  </td><td>64   </td><td> 0   </td><td>  0  </td><td>23.3 </td><td>0.672</td><td>32   </td><td>1    </td></tr>\n",
       "\t<tr><td>1    </td><td> 89  </td><td>66   </td><td>23   </td><td> 94  </td><td>28.1 </td><td>0.167</td><td>21   </td><td>0    </td></tr>\n",
       "\t<tr><td>0    </td><td>137  </td><td>40   </td><td>35   </td><td>168  </td><td>43.1 </td><td>2.288</td><td>33   </td><td>1    </td></tr>\n",
       "</tbody>\n",
       "</table>\n"
      ],
      "text/latex": [
       "\\begin{tabular}{r|lllllllll}\n",
       " Pregnancies & Glucose & BloodPressure & SkinThickness & Insulin & BMI & DiabetesPedigreeFunction & Age & Outcome\\\\\n",
       "\\hline\n",
       "\t 6     & 148   & 72    & 35    &   0   & 33.6  & 0.627 & 50    & 1    \\\\\n",
       "\t 1     &  85   & 66    & 29    &   0   & 26.6  & 0.351 & 31    & 0    \\\\\n",
       "\t 8     & 183   & 64    &  0    &   0   & 23.3  & 0.672 & 32    & 1    \\\\\n",
       "\t 1     &  89   & 66    & 23    &  94   & 28.1  & 0.167 & 21    & 0    \\\\\n",
       "\t 0     & 137   & 40    & 35    & 168   & 43.1  & 2.288 & 33    & 1    \\\\\n",
       "\\end{tabular}\n"
      ],
      "text/markdown": [
       "\n",
       "| Pregnancies | Glucose | BloodPressure | SkinThickness | Insulin | BMI | DiabetesPedigreeFunction | Age | Outcome |\n",
       "|---|---|---|---|---|---|---|---|---|\n",
       "| 6     | 148   | 72    | 35    |   0   | 33.6  | 0.627 | 50    | 1     |\n",
       "| 1     |  85   | 66    | 29    |   0   | 26.6  | 0.351 | 31    | 0     |\n",
       "| 8     | 183   | 64    |  0    |   0   | 23.3  | 0.672 | 32    | 1     |\n",
       "| 1     |  89   | 66    | 23    |  94   | 28.1  | 0.167 | 21    | 0     |\n",
       "| 0     | 137   | 40    | 35    | 168   | 43.1  | 2.288 | 33    | 1     |\n",
       "\n"
      ],
      "text/plain": [
       "  Pregnancies Glucose BloodPressure SkinThickness Insulin BMI \n",
       "1 6           148     72            35              0     33.6\n",
       "2 1            85     66            29              0     26.6\n",
       "3 8           183     64             0              0     23.3\n",
       "4 1            89     66            23             94     28.1\n",
       "5 0           137     40            35            168     43.1\n",
       "  DiabetesPedigreeFunction Age Outcome\n",
       "1 0.627                    50  1      \n",
       "2 0.351                    31  0      \n",
       "3 0.672                    32  1      \n",
       "4 0.167                    21  0      \n",
       "5 2.288                    33  1      "
      ]
     },
     "metadata": {},
     "output_type": "display_data"
    },
    {
     "name": "stdout",
     "output_type": "stream",
     "text": [
      "Observations: 768\n",
      "Variables: 9\n",
      "$ Pregnancies              <int> 6, 1, 8, 1, 0, 5, 3, 10, 2, 8, 4, 10, 10, ...\n",
      "$ Glucose                  <int> 148, 85, 183, 89, 137, 116, 78, 115, 197, ...\n",
      "$ BloodPressure            <int> 72, 66, 64, 66, 40, 74, 50, 0, 70, 96, 92,...\n",
      "$ SkinThickness            <int> 35, 29, 0, 23, 35, 0, 32, 0, 45, 0, 0, 0, ...\n",
      "$ Insulin                  <int> 0, 0, 0, 94, 168, 0, 88, 0, 543, 0, 0, 0, ...\n",
      "$ BMI                      <dbl> 33.6, 26.6, 23.3, 28.1, 43.1, 25.6, 31.0, ...\n",
      "$ DiabetesPedigreeFunction <dbl> 0.627, 0.351, 0.672, 0.167, 2.288, 0.201, ...\n",
      "$ Age                      <int> 50, 31, 32, 21, 33, 30, 26, 29, 53, 54, 30...\n",
      "$ Outcome                  <int> 1, 0, 1, 0, 1, 0, 1, 0, 1, 1, 0, 1, 0, 1, ...\n"
     ]
    },
    {
     "data": {
      "text/plain": [
       "  Pregnancies        Glucose      BloodPressure    SkinThickness  \n",
       " Min.   : 0.000   Min.   :  0.0   Min.   :  0.00   Min.   : 0.00  \n",
       " 1st Qu.: 1.000   1st Qu.: 99.0   1st Qu.: 62.00   1st Qu.: 0.00  \n",
       " Median : 3.000   Median :117.0   Median : 72.00   Median :23.00  \n",
       " Mean   : 3.845   Mean   :120.9   Mean   : 69.11   Mean   :20.54  \n",
       " 3rd Qu.: 6.000   3rd Qu.:140.2   3rd Qu.: 80.00   3rd Qu.:32.00  \n",
       " Max.   :17.000   Max.   :199.0   Max.   :122.00   Max.   :99.00  \n",
       "    Insulin           BMI        DiabetesPedigreeFunction      Age       \n",
       " Min.   :  0.0   Min.   : 0.00   Min.   :0.0780           Min.   :21.00  \n",
       " 1st Qu.:  0.0   1st Qu.:27.30   1st Qu.:0.2437           1st Qu.:24.00  \n",
       " Median : 30.5   Median :32.00   Median :0.3725           Median :29.00  \n",
       " Mean   : 79.8   Mean   :31.99   Mean   :0.4719           Mean   :33.24  \n",
       " 3rd Qu.:127.2   3rd Qu.:36.60   3rd Qu.:0.6262           3rd Qu.:41.00  \n",
       " Max.   :846.0   Max.   :67.10   Max.   :2.4200           Max.   :81.00  \n",
       "    Outcome     \n",
       " Min.   :0.000  \n",
       " 1st Qu.:0.000  \n",
       " Median :0.000  \n",
       " Mean   :0.349  \n",
       " 3rd Qu.:1.000  \n",
       " Max.   :1.000  "
      ]
     },
     "metadata": {},
     "output_type": "display_data"
    },
    {
     "data": {
      "text/html": [
       "<dl class=dl-horizontal>\n",
       "\t<dt>Pregnancies</dt>\n",
       "\t\t<dd>0</dd>\n",
       "\t<dt>Glucose</dt>\n",
       "\t\t<dd>0</dd>\n",
       "\t<dt>BloodPressure</dt>\n",
       "\t\t<dd>0</dd>\n",
       "\t<dt>SkinThickness</dt>\n",
       "\t\t<dd>0</dd>\n",
       "\t<dt>Insulin</dt>\n",
       "\t\t<dd>0</dd>\n",
       "\t<dt>BMI</dt>\n",
       "\t\t<dd>0</dd>\n",
       "\t<dt>DiabetesPedigreeFunction</dt>\n",
       "\t\t<dd>0</dd>\n",
       "\t<dt>Age</dt>\n",
       "\t\t<dd>0</dd>\n",
       "\t<dt>Outcome</dt>\n",
       "\t\t<dd>0</dd>\n",
       "</dl>\n"
      ],
      "text/latex": [
       "\\begin{description*}\n",
       "\\item[Pregnancies] 0\n",
       "\\item[Glucose] 0\n",
       "\\item[BloodPressure] 0\n",
       "\\item[SkinThickness] 0\n",
       "\\item[Insulin] 0\n",
       "\\item[BMI] 0\n",
       "\\item[DiabetesPedigreeFunction] 0\n",
       "\\item[Age] 0\n",
       "\\item[Outcome] 0\n",
       "\\end{description*}\n"
      ],
      "text/markdown": [
       "Pregnancies\n",
       ":   0Glucose\n",
       ":   0BloodPressure\n",
       ":   0SkinThickness\n",
       ":   0Insulin\n",
       ":   0BMI\n",
       ":   0DiabetesPedigreeFunction\n",
       ":   0Age\n",
       ":   0Outcome\n",
       ":   0\n",
       "\n"
      ],
      "text/plain": [
       "             Pregnancies                  Glucose            BloodPressure \n",
       "                       0                        0                        0 \n",
       "           SkinThickness                  Insulin                      BMI \n",
       "                       0                        0                        0 \n",
       "DiabetesPedigreeFunction                      Age                  Outcome \n",
       "                       0                        0                        0 "
      ]
     },
     "metadata": {},
     "output_type": "display_data"
    }
   ],
   "source": [
    "# A glimpse and summary of the data set\n",
    "head(diabetes_data, 5)\n",
    "glimpse(diabetes_data)\n",
    "summary(diabetes_data)\n",
    "\n",
    "#checking for any missing values\n",
    "colSums(is.na(diabetes_data))"
   ]
  },
  {
   "cell_type": "markdown",
   "metadata": {},
   "source": [
    "## 3. Preparing environment and ensuring correct data types before exploratory data analysis"
   ]
  },
  {
   "cell_type": "code",
   "execution_count": 38,
   "metadata": {},
   "outputs": [
    {
     "data": {
      "text/html": [
       "<table>\n",
       "<thead><tr><th scope=col>Pregnancies</th><th scope=col>Glucose</th><th scope=col>BloodPressure</th><th scope=col>SkinThickness</th><th scope=col>Insulin</th><th scope=col>BMI</th><th scope=col>DiabetesPedigreeFunction</th><th scope=col>Age</th><th scope=col>Outcome</th><th scope=col>Diabetic</th></tr></thead>\n",
       "<tbody>\n",
       "\t<tr><td>1    </td><td> 89  </td><td>66   </td><td>23   </td><td> 94  </td><td>28.1 </td><td>0.167</td><td>21   </td><td>0    </td><td>0    </td></tr>\n",
       "\t<tr><td>0    </td><td>137  </td><td>40   </td><td>35   </td><td>168  </td><td>43.1 </td><td>2.288</td><td>33   </td><td>1    </td><td>1    </td></tr>\n",
       "\t<tr><td>3    </td><td> 78  </td><td>50   </td><td>32   </td><td> 88  </td><td>31.0 </td><td>0.248</td><td>26   </td><td>1    </td><td>1    </td></tr>\n",
       "\t<tr><td>2    </td><td>197  </td><td>70   </td><td>45   </td><td>543  </td><td>30.5 </td><td>0.158</td><td>53   </td><td>1    </td><td>1    </td></tr>\n",
       "\t<tr><td>1    </td><td>189  </td><td>60   </td><td>23   </td><td>846  </td><td>30.1 </td><td>0.398</td><td>59   </td><td>1    </td><td>1    </td></tr>\n",
       "</tbody>\n",
       "</table>\n"
      ],
      "text/latex": [
       "\\begin{tabular}{r|llllllllll}\n",
       " Pregnancies & Glucose & BloodPressure & SkinThickness & Insulin & BMI & DiabetesPedigreeFunction & Age & Outcome & Diabetic\\\\\n",
       "\\hline\n",
       "\t 1     &  89   & 66    & 23    &  94   & 28.1  & 0.167 & 21    & 0     & 0    \\\\\n",
       "\t 0     & 137   & 40    & 35    & 168   & 43.1  & 2.288 & 33    & 1     & 1    \\\\\n",
       "\t 3     &  78   & 50    & 32    &  88   & 31.0  & 0.248 & 26    & 1     & 1    \\\\\n",
       "\t 2     & 197   & 70    & 45    & 543   & 30.5  & 0.158 & 53    & 1     & 1    \\\\\n",
       "\t 1     & 189   & 60    & 23    & 846   & 30.1  & 0.398 & 59    & 1     & 1    \\\\\n",
       "\\end{tabular}\n"
      ],
      "text/markdown": [
       "\n",
       "| Pregnancies | Glucose | BloodPressure | SkinThickness | Insulin | BMI | DiabetesPedigreeFunction | Age | Outcome | Diabetic |\n",
       "|---|---|---|---|---|---|---|---|---|---|\n",
       "| 1     |  89   | 66    | 23    |  94   | 28.1  | 0.167 | 21    | 0     | 0     |\n",
       "| 0     | 137   | 40    | 35    | 168   | 43.1  | 2.288 | 33    | 1     | 1     |\n",
       "| 3     |  78   | 50    | 32    |  88   | 31.0  | 0.248 | 26    | 1     | 1     |\n",
       "| 2     | 197   | 70    | 45    | 543   | 30.5  | 0.158 | 53    | 1     | 1     |\n",
       "| 1     | 189   | 60    | 23    | 846   | 30.1  | 0.398 | 59    | 1     | 1     |\n",
       "\n"
      ],
      "text/plain": [
       "  Pregnancies Glucose BloodPressure SkinThickness Insulin BMI \n",
       "1 1            89     66            23             94     28.1\n",
       "2 0           137     40            35            168     43.1\n",
       "3 3            78     50            32             88     31.0\n",
       "4 2           197     70            45            543     30.5\n",
       "5 1           189     60            23            846     30.1\n",
       "  DiabetesPedigreeFunction Age Outcome Diabetic\n",
       "1 0.167                    21  0       0       \n",
       "2 2.288                    33  1       1       \n",
       "3 0.248                    26  1       1       \n",
       "4 0.158                    53  1       1       \n",
       "5 0.398                    59  1       1       "
      ]
     },
     "metadata": {},
     "output_type": "display_data"
    },
    {
     "name": "stdout",
     "output_type": "stream",
     "text": [
      "Observations: 392\n",
      "Variables: 10\n",
      "$ Pregnancies              <int> 1, 0, 3, 2, 1, 5, 0, 1, 1, 3, 11, 10, 1, 1...\n",
      "$ Glucose                  <int> 89, 137, 78, 197, 189, 166, 118, 103, 115,...\n",
      "$ BloodPressure            <int> 66, 40, 50, 70, 60, 72, 84, 30, 70, 88, 94...\n",
      "$ SkinThickness            <int> 23, 35, 32, 45, 23, 19, 47, 38, 30, 41, 33...\n",
      "$ Insulin                  <int> 94, 168, 88, 543, 846, 175, 230, 83, 96, 2...\n",
      "$ BMI                      <dbl> 28.1, 43.1, 31.0, 30.5, 30.1, 25.8, 45.8, ...\n",
      "$ DiabetesPedigreeFunction <dbl> 0.167, 2.288, 0.248, 0.158, 0.398, 0.587, ...\n",
      "$ Age                      <int> 21, 33, 26, 53, 59, 51, 31, 33, 32, 27, 51...\n",
      "$ Outcome                  <int> 0, 1, 1, 1, 1, 1, 1, 0, 1, 0, 1, 1, 0, 0, ...\n",
      "$ Diabetic                 <dbl> 0, 1, 1, 1, 1, 1, 1, 0, 1, 0, 1, 1, 0, 0, ...\n"
     ]
    }
   ],
   "source": [
    "#we notice the 0's in the dataset which although are not NA or NULLS and just doesnt make sense to have a BMI of 0,\n",
    "#these data points can skew our model\n",
    "#So in this case it is best that we get rid of these observations that include 0's specifically for columns \"Glucose\" to \"DiabetesPedigreeFunction\"\n",
    "# i.e columns 2:6 ; which does drop the total observations from 768 down to 392 but is okay because we want to work with clean data, hence the data cleaning process\n",
    "for (i in 2:6) {\n",
    "      diabetes_data <- diabetes_data[-which(diabetes_data[, i] == 0), ]\n",
    "}\n",
    "\n",
    "# Use the 'mutate' function from dplyr package to recode the data and add it into our dataset as a new column\n",
    "\n",
    "diabetes_data %>% mutate(Diabetic = ifelse(Outcome > 0, 1, 0))-> diabetes_data\n",
    "\n",
    "#notice the new column marked as diabetic\n",
    "\n",
    "head(diabetes_data, 5)\n",
    "glimpse(diabetes_data)\n"
   ]
  },
  {
   "cell_type": "code",
   "execution_count": null,
   "metadata": {},
   "outputs": [],
   "source": []
  },
  {
   "cell_type": "markdown",
   "metadata": {},
   "source": [
    "## 4. Using t-tests to see which variables are key predictors associated with diabetes."
   ]
  },
  {
   "cell_type": "code",
   "execution_count": 39,
   "metadata": {},
   "outputs": [
    {
     "name": "stdout",
     "output_type": "stream",
     "text": [
      "\n",
      "\tWelch Two Sample t-test\n",
      "\n",
      "data:  diabetes_data$Age by diabetes_data$Diabetic\n",
      "t = -6.993, df = 222.83, p-value = 3.098e-11\n",
      "alternative hypothesis: true difference in means is not equal to 0\n",
      "95 percent confidence interval:\n",
      " -9.730358 -5.451909\n",
      "sample estimates:\n",
      "mean in group 0 mean in group 1 \n",
      "       28.34733        35.93846 \n",
      "\n",
      "\n",
      "\tWelch Two Sample t-test\n",
      "\n",
      "data:  diabetes_data$Glucose by diabetes_data$Diabetic\n",
      "t = -11.151, df = 218.7, p-value < 2.2e-16\n",
      "alternative hypothesis: true difference in means is not equal to 0\n",
      "95 percent confidence interval:\n",
      " -39.72817 -27.79385\n",
      "sample estimates:\n",
      "mean in group 0 mean in group 1 \n",
      "       111.4313        145.1923 \n",
      "\n",
      "\n",
      "\tWelch Two Sample t-test\n",
      "\n",
      "data:  diabetes_data$BMI by diabetes_data$Diabetic\n",
      "t = -5.5571, df = 259.51, p-value = 6.797e-08\n",
      "alternative hypothesis: true difference in means is not equal to 0\n",
      "95 percent confidence interval:\n",
      " -5.453875 -2.599983\n",
      "sample estimates:\n",
      "mean in group 0 mean in group 1 \n",
      "       31.75076        35.77769 \n",
      "\n"
     ]
    }
   ],
   "source": [
    "\n",
    "# Does age have an effect? Age is continuous, so we use a t-test\n",
    "diabetes_Age <- t.test(diabetes_data$Age ~ diabetes_data$Diabetic)\n",
    "\n",
    "# what about skin thickness? Im curious and since it is also a continuous variableAge we use a t-test\n",
    "diabetes_Glucose <- t.test(diabetes_data$Glucose ~ diabetes_data$Diabetic)\n",
    "\n",
    "# BMI? BMI is also continuous so we can use a t-test\n",
    "diabetes_BMI <- t.test(diabetes_data$BMI ~ diabetes_data$Diabetic)\n",
    "\n",
    "# Print the results to see if p<0.05.\n",
    "print(diabetes_Age)\n",
    "print(diabetes_Glucose)\n",
    "print(diabetes_BMI)"
   ]
  },
  {
   "cell_type": "markdown",
   "metadata": {},
   "source": [
    "## 5. Visual Exploration"
   ]
  },
  {
   "cell_type": "code",
   "execution_count": 40,
   "metadata": {
    "scrolled": false
   },
   "outputs": [
    {
     "data": {
      "image/png": "[encoded data removed]",
      "text/plain": [
       "plot without title"
      ]
     },
     "metadata": {},
     "output_type": "display_data"
    }
   ],
   "source": [
    "#lets check out the correlation between these predictors, we can use a correlogram \n",
    "\n",
    "\n",
    "corr<-round(cor(diabetes_data),1)\n",
    "\n",
    "ggcorrplot(corr, hc.order = TRUE, \n",
    "           type = \"lower\", \n",
    "           lab = TRUE, \n",
    "           lab_size = 3, \n",
    "           method=\"circle\", \n",
    "           colors = c(\"red\", \"white\", \"blue\"), \n",
    "           title=\"Correlogram of Variables\", \n",
    "           ggtheme=theme_bw)\n",
    "\n"
   ]
  },
  {
   "cell_type": "code",
   "execution_count": 41,
   "metadata": {},
   "outputs": [
    {
     "data": {
      "image/png": "[encoded data removed]",
      "text/plain": [
       "plot without title"
      ]
     },
     "metadata": {},
     "output_type": "display_data"
    },
    {
     "data": {
      "image/png": "[encoded data removed]",
      "text/plain": [
       "plot without title"
      ]
     },
     "metadata": {},
     "output_type": "display_data"
    },
    {
     "data": {
      "image/png": "[encoded data removed]",
      "text/plain": [
       "plot without title"
      ]
     },
     "metadata": {},
     "output_type": "display_data"
    }
   ],
   "source": [
    "# we can also use boxplots\n",
    "diabetes_data %>% mutate(Diabetics_labelled = ifelse(Diabetic == 1, \"Diseased\", \"No Disease\")) -> diabetes_data\n",
    "\n",
    "# Age vs Diabetic\n",
    "ggplot(data = diabetes_data, aes(x = Diabetics_labelled, y = Age)) + geom_boxplot()\n",
    "\n",
    "# Glucose  vs Diabetic\n",
    "ggplot(data = diabetes_data, aes(x = Diabetics_labelled, y = Glucose)) + geom_boxplot()\n",
    "\n",
    "# BMI vs Diabetic\n",
    "ggplot(data = diabetes_data, aes(x = Diabetics_labelled, y = BMI)) + geom_boxplot()"
   ]
  },
  {
   "cell_type": "markdown",
   "metadata": {},
   "source": [
    "## 6. Putting desired variables into a model\n",
    "Both statistical tests and visualisations confirm that these variables have somewhat of a high association with our outcome (p<0.001 for tests).\n",
    "\n",
    "We can input these variables into a multiple logistic regression model since we have multiple variables aiming to solve a binary classifcation problem."
   ]
  },
  {
   "cell_type": "code",
   "execution_count": 42,
   "metadata": {},
   "outputs": [
    {
     "data": {
      "text/plain": [
       "\n",
       "Call:\n",
       "glm(formula = Diabetic ~ Age + Glucose + BMI, family = \"binomial\", \n",
       "    data = diabetes_data)\n",
       "\n",
       "Deviance Residuals: \n",
       "    Min       1Q   Median       3Q      Max  \n",
       "-2.6030  -0.6666  -0.3815   0.6765   2.4804  \n",
       "\n",
       "Coefficients:\n",
       "             Estimate Std. Error z value Pr(>|z|)    \n",
       "(Intercept) -9.677346   1.041873  -9.288  < 2e-16 ***\n",
       "Age          0.054075   0.013236   4.085 4.40e-05 ***\n",
       "Glucose      0.036266   0.004906   7.391 1.45e-13 ***\n",
       "BMI          0.077860   0.020120   3.870 0.000109 ***\n",
       "---\n",
       "Signif. codes:  0 '***' 0.001 '**' 0.01 '*' 0.05 '.' 0.1 ' ' 1\n",
       "\n",
       "(Dispersion parameter for binomial family taken to be 1)\n",
       "\n",
       "    Null deviance: 498.10  on 391  degrees of freedom\n",
       "Residual deviance: 354.37  on 388  degrees of freedom\n",
       "AIC: 362.37\n",
       "\n",
       "Number of Fisher Scoring iterations: 5\n"
      ]
     },
     "metadata": {},
     "output_type": "display_data"
    }
   ],
   "source": [
    "# use glm function from base R and specify the family argument as binomial\n",
    "model <- glm(data = diabetes_data, Diabetic ~ Age + Glucose + BMI, family = \"binomial\")\n",
    "\n",
    "#checkout the summmary of the model\n",
    "summary(model)"
   ]
  },
  {
   "cell_type": "markdown",
   "metadata": {},
   "source": [
    "## 7. Odds Ratio (OR) \n",
    "Additionally it also good medical research practice to include the Odds Ratio (OR) to indicate the absence or presence with a variable with the presence or absence of the outcome (diabetic or not).\n",
    "\n",
    "OR > 1 :  Variable positively associated with Outcome\n",
    "OR <= 1 : Varaible negatively associated with Outcome \n",
    "\n",
    "The raw glm coefficient table in R represents the log(Odds Ratio) of the outcome. Therefore, we need to convert the values to the original OR scale and calculate the corresponding 95% Confidence Interval (CI) of the estimated Odds Ratio when reporting results from a logistic regression."
   ]
  },
  {
   "cell_type": "code",
   "execution_count": 43,
   "metadata": {},
   "outputs": [
    {
     "data": {
      "text/html": [
       "<table>\n",
       "<thead><tr><th scope=col>term</th><th scope=col>estimate</th><th scope=col>std.error</th><th scope=col>statistic</th><th scope=col>p.value</th></tr></thead>\n",
       "<tbody>\n",
       "\t<tr><td>(Intercept) </td><td>-9.67734580 </td><td>1.041873244 </td><td>-9.288410   </td><td>1.566104e-20</td></tr>\n",
       "\t<tr><td>Age         </td><td> 0.05407546 </td><td>0.013236226 </td><td> 4.085414   </td><td>4.399829e-05</td></tr>\n",
       "\t<tr><td>Glucose     </td><td> 0.03626559 </td><td>0.004906499 </td><td> 7.391337   </td><td>1.453597e-13</td></tr>\n",
       "\t<tr><td>BMI         </td><td> 0.07786001 </td><td>0.020120396 </td><td> 3.869706   </td><td>1.089669e-04</td></tr>\n",
       "</tbody>\n",
       "</table>\n"
      ],
      "text/latex": [
       "\\begin{tabular}{r|lllll}\n",
       " term & estimate & std.error & statistic & p.value\\\\\n",
       "\\hline\n",
       "\t (Intercept)  & -9.67734580  & 1.041873244  & -9.288410    & 1.566104e-20\\\\\n",
       "\t Age          &  0.05407546  & 0.013236226  &  4.085414    & 4.399829e-05\\\\\n",
       "\t Glucose      &  0.03626559  & 0.004906499  &  7.391337    & 1.453597e-13\\\\\n",
       "\t BMI          &  0.07786001  & 0.020120396  &  3.869706    & 1.089669e-04\\\\\n",
       "\\end{tabular}\n"
      ],
      "text/markdown": [
       "\n",
       "| term | estimate | std.error | statistic | p.value |\n",
       "|---|---|---|---|---|\n",
       "| (Intercept)  | -9.67734580  | 1.041873244  | -9.288410    | 1.566104e-20 |\n",
       "| Age          |  0.05407546  | 0.013236226  |  4.085414    | 4.399829e-05 |\n",
       "| Glucose      |  0.03626559  | 0.004906499  |  7.391337    | 1.453597e-13 |\n",
       "| BMI          |  0.07786001  | 0.020120396  |  3.869706    | 1.089669e-04 |\n",
       "\n"
      ],
      "text/plain": [
       "  term        estimate    std.error   statistic p.value     \n",
       "1 (Intercept) -9.67734580 1.041873244 -9.288410 1.566104e-20\n",
       "2 Age          0.05407546 0.013236226  4.085414 4.399829e-05\n",
       "3 Glucose      0.03626559 0.004906499  7.391337 1.453597e-13\n",
       "4 BMI          0.07786001 0.020120396  3.869706 1.089669e-04"
      ]
     },
     "metadata": {},
     "output_type": "display_data"
    },
    {
     "data": {
      "text/html": [
       "<table>\n",
       "<thead><tr><th scope=col>term</th><th scope=col>estimate</th><th scope=col>std.error</th><th scope=col>statistic</th><th scope=col>p.value</th><th scope=col>OR</th><th scope=col>lower_CI</th><th scope=col>upper_CI</th></tr></thead>\n",
       "<tbody>\n",
       "\t<tr><td>(Intercept) </td><td>-9.67734580 </td><td>1.041873244 </td><td>-9.288410   </td><td>1.566104e-20</td><td>6.268767e-05</td><td>8.134329e-06</td><td>0.0004831061</td></tr>\n",
       "\t<tr><td>Age         </td><td> 0.05407546 </td><td>0.013236226 </td><td> 4.085414   </td><td>4.399829e-05</td><td>1.055564e+00</td><td>1.028532e+00</td><td>1.0833070692</td></tr>\n",
       "\t<tr><td>Glucose     </td><td> 0.03626559 </td><td>0.004906499 </td><td> 7.391337   </td><td>1.453597e-13</td><td>1.036931e+00</td><td>1.027007e+00</td><td>1.0469512021</td></tr>\n",
       "\t<tr><td>BMI         </td><td> 0.07786001 </td><td>0.020120396 </td><td> 3.869706   </td><td>1.089669e-04</td><td>1.080971e+00</td><td>1.039172e+00</td><td>1.1244522018</td></tr>\n",
       "</tbody>\n",
       "</table>\n"
      ],
      "text/latex": [
       "\\begin{tabular}{r|llllllll}\n",
       " term & estimate & std.error & statistic & p.value & OR & lower\\_CI & upper\\_CI\\\\\n",
       "\\hline\n",
       "\t (Intercept)  & -9.67734580  & 1.041873244  & -9.288410    & 1.566104e-20 & 6.268767e-05 & 8.134329e-06 & 0.0004831061\\\\\n",
       "\t Age          &  0.05407546  & 0.013236226  &  4.085414    & 4.399829e-05 & 1.055564e+00 & 1.028532e+00 & 1.0833070692\\\\\n",
       "\t Glucose      &  0.03626559  & 0.004906499  &  7.391337    & 1.453597e-13 & 1.036931e+00 & 1.027007e+00 & 1.0469512021\\\\\n",
       "\t BMI          &  0.07786001  & 0.020120396  &  3.869706    & 1.089669e-04 & 1.080971e+00 & 1.039172e+00 & 1.1244522018\\\\\n",
       "\\end{tabular}\n"
      ],
      "text/markdown": [
       "\n",
       "| term | estimate | std.error | statistic | p.value | OR | lower_CI | upper_CI |\n",
       "|---|---|---|---|---|---|---|---|\n",
       "| (Intercept)  | -9.67734580  | 1.041873244  | -9.288410    | 1.566104e-20 | 6.268767e-05 | 8.134329e-06 | 0.0004831061 |\n",
       "| Age          |  0.05407546  | 0.013236226  |  4.085414    | 4.399829e-05 | 1.055564e+00 | 1.028532e+00 | 1.0833070692 |\n",
       "| Glucose      |  0.03626559  | 0.004906499  |  7.391337    | 1.453597e-13 | 1.036931e+00 | 1.027007e+00 | 1.0469512021 |\n",
       "| BMI          |  0.07786001  | 0.020120396  |  3.869706    | 1.089669e-04 | 1.080971e+00 | 1.039172e+00 | 1.1244522018 |\n",
       "\n"
      ],
      "text/plain": [
       "  term        estimate    std.error   statistic p.value      OR          \n",
       "1 (Intercept) -9.67734580 1.041873244 -9.288410 1.566104e-20 6.268767e-05\n",
       "2 Age          0.05407546 0.013236226  4.085414 4.399829e-05 1.055564e+00\n",
       "3 Glucose      0.03626559 0.004906499  7.391337 1.453597e-13 1.036931e+00\n",
       "4 BMI          0.07786001 0.020120396  3.869706 1.089669e-04 1.080971e+00\n",
       "  lower_CI     upper_CI    \n",
       "1 8.134329e-06 0.0004831061\n",
       "2 1.028532e+00 1.0833070692\n",
       "3 1.027007e+00 1.0469512021\n",
       "4 1.039172e+00 1.1244522018"
      ]
     },
     "metadata": {},
     "output_type": "display_data"
    }
   ],
   "source": [
    "# load the broom package\n",
    "require(broom)\n",
    "\n",
    "# tidy up the coefficient table\n",
    "tidy_m <- model %>% tidy()\n",
    "tidy_m\n",
    "\n",
    "# calculate OR\n",
    "tidy_m$OR <- exp(tidy_m$estimate)\n",
    "\n",
    "# calculate 95% CI and save as lower CI and upper CI\n",
    "tidy_m$lower_CI <- exp(tidy_m$estimate - 1.96 * tidy_m$std.error)\n",
    "tidy_m$upper_CI <- exp(tidy_m$estimate + 1.96 * tidy_m$std.error)\n",
    "\n",
    "# display the updated coefficient table\n",
    "tidy_m"
   ]
  },
  {
   "cell_type": "markdown",
   "metadata": {},
   "source": [
    "## 8. Adding desired values to predicted probabilities from our model\n",
    "So in application, lets imagine a patient who is 55 years old, has a glucose level of 175 mg/dl, and a BMI of 30.0 walks in and sees a doctor for a blood test. How well can our model predict if the person is diabetic or not?"
   ]
  },
  {
   "cell_type": "code",
   "execution_count": 44,
   "metadata": {},
   "outputs": [
    {
     "data": {
      "text/html": [
       "<strong>1:</strong> 0.878583308638872"
      ],
      "text/latex": [
       "\\textbf{1:} 0.878583308638872"
      ],
      "text/markdown": [
       "**1:** 0.878583308638872"
      ],
      "text/plain": [
       "        1 \n",
       "0.8785833 "
      ]
     },
     "metadata": {},
     "output_type": "display_data"
    }
   ],
   "source": [
    "# get the predicted probability in our dataset using the predict() function\n",
    "pred_prob <- predict(model, diabetes_data, type = \"response\")\n",
    "\n",
    "# create a decision rule using probability 0.5 as cutoff and save the predicted decision into the main data frame\n",
    "diabetes_data$pred_diabetes <- ifelse(pred_prob>=.5,1,0)\n",
    "\n",
    "# create a newdata data frame to save a new case information\n",
    "newdata <- data.frame(Age = 55, Glucose = 175, BMI = 30.0)\n",
    "\n",
    "# predict probability for this new case and print out the predicted value\n",
    "p_new <- predict(model, newdata, type = \"response\")\n",
    "p_new"
   ]
  },
  {
   "cell_type": "markdown",
   "metadata": {},
   "source": [
    "## 0.87, this patient is at high risk of diabetes! Hurry lets get on Keto!"
   ]
  },
  {
   "cell_type": "markdown",
   "metadata": {},
   "source": [
    "## 9. Model performance metrics"
   ]
  },
  {
   "cell_type": "code",
   "execution_count": 45,
   "metadata": {},
   "outputs": [
    {
     "name": "stdout",
     "output_type": "stream",
     "text": [
      "[1] \"AUC= 0.746564885496183\"\n",
      "[1] \"Accuracy= 0.795918367346939\"\n",
      "[1] \"Classification Error= 0.204081632653061\"\n"
     ]
    },
    {
     "data": {
      "text/plain": [
       "           Predicted Status\n",
       "True Status   0   1\n",
       "          0 234  28\n",
       "          1  52  78"
      ]
     },
     "metadata": {},
     "output_type": "display_data"
    }
   ],
   "source": [
    "# load Metrics package\n",
    "library(Metrics)\n",
    "\n",
    "# calculate auc, accuracy, clasification error\n",
    "auc <- auc(diabetes_data$Diabetic, diabetes_data$pred_diabetes)\n",
    "accuracy <- accuracy(diabetes_data$Diabetic, diabetes_data$pred_diabetes)\n",
    "classification_error <- ce(diabetes_data$Diabetic, diabetes_data$pred_diabetes)\n",
    "\n",
    "# print out the metrics on to screen\n",
    "print(paste(\"AUC=\", auc))\n",
    "print(paste(\"Accuracy=\", accuracy))\n",
    "print(paste(\"Classification Error=\", classification_error))\n",
    "\n",
    "# confusion matrix\n",
    "table(diabetes_data$Diabetic, diabetes_data$pred_diabetes, dnn=c(\"True Status\",\"Predicted Status\")) # confusion matrix"
   ]
  },
  {
   "cell_type": "markdown",
   "metadata": {},
   "source": [
    "## 0.79 Accuracy using a Logistic regression "
   ]
  },
  {
   "cell_type": "markdown",
   "metadata": {},
   "source": [
    "## NOTES:\n",
    "- Could use a sex variable in the future"
   ]
  }
 ],
 "metadata": {
  "kernelspec": {
   "display_name": "R",
   "language": "R",
   "name": "ir"
  },
  "language_info": {
   "codemirror_mode": "r",
   "file_extension": ".r",
   "mimetype": "text/x-r-source",
   "name": "R",
   "pygments_lexer": "r",
   "version": "3.6.1"
  }
 },
 "nbformat": 4,
 "nbformat_minor": 2
}
