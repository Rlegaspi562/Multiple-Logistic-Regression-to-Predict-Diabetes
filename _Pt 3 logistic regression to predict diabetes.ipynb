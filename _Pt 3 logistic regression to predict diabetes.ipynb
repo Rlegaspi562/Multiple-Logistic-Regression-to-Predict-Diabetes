{
 "cells": [
  {
   "cell_type": "markdown",
   "metadata": {},
   "source": [
    "## 1. Pima Native American Indian Diabetes dataset. Using multiple logistic regression to predict diabetes.\n"
   ]
  },
  {
   "cell_type": "markdown",
   "metadata": {},
   "source": [
    "## Preparing environment"
   ]
  },
  {
   "cell_type": "code",
   "execution_count": 22,
   "metadata": {},
   "outputs": [
    {
     "ename": "ERROR",
     "evalue": "Error in library(ggthemes): there is no package called 'ggthemes'\n",
     "output_type": "error",
     "traceback": [
      "Error in library(ggthemes): there is no package called 'ggthemes'\nTraceback:\n",
      "1. library(ggthemes)"
     ]
    }
   ],
   "source": [
    "\n",
    "# Setting my working directory\n",
    "setwd(\"C:/Users/Rumil/Datasets\")\n",
    "\n",
    "#importing my dataset and creating the object diabetes, for the diabetes dataset\n",
    "diabetes_data <- read.csv(\"C:/Users/Rumil/Datasets/pima_indians_diabetes.csv\")\n",
    "\n",
    "#loading in packages for R\n",
    "library(tidyverse)\n",
    "library(reshape2)\n",
    "library(ggplot2)\n",
    "library(ggcorrplot)\n",
    "\n",
    "\n",
    "\n",
    "\n",
    "\n",
    "\n",
    "library(ggplot2) # Data visualization\n",
    "library(readr) # CSV file I/O, e.g. the read_csv function\n",
    "library(dplyr)\n",
    "library(ggthemes)\n",
    "library(RColorBrewer)\n",
    "library(pROC)\n",
    "library(caret)"
   ]
  },
  {
   "cell_type": "markdown",
   "metadata": {},
   "source": [
    "## Dataset Overview"
   ]
  },
  {
   "cell_type": "code",
   "execution_count": 43,
   "metadata": {},
   "outputs": [
    {
     "data": {
      "text/html": [
       "<table>\n",
       "<thead><tr><th scope=col>Pregnancies</th><th scope=col>Glucose</th><th scope=col>BloodPressure</th><th scope=col>SkinThickness</th><th scope=col>Insulin</th><th scope=col>BMI</th><th scope=col>DiabetesPedigreeFunction</th><th scope=col>Age</th><th scope=col>Outcome</th></tr></thead>\n",
       "<tbody>\n",
       "\t<tr><td>6    </td><td>148  </td><td>72   </td><td>35   </td><td>  0  </td><td>33.6 </td><td>0.627</td><td>50   </td><td>1    </td></tr>\n",
       "\t<tr><td>1    </td><td> 85  </td><td>66   </td><td>29   </td><td>  0  </td><td>26.6 </td><td>0.351</td><td>31   </td><td>0    </td></tr>\n",
       "\t<tr><td>8    </td><td>183  </td><td>64   </td><td> 0   </td><td>  0  </td><td>23.3 </td><td>0.672</td><td>32   </td><td>1    </td></tr>\n",
       "\t<tr><td>1    </td><td> 89  </td><td>66   </td><td>23   </td><td> 94  </td><td>28.1 </td><td>0.167</td><td>21   </td><td>0    </td></tr>\n",
       "\t<tr><td>0    </td><td>137  </td><td>40   </td><td>35   </td><td>168  </td><td>43.1 </td><td>2.288</td><td>33   </td><td>1    </td></tr>\n",
       "</tbody>\n",
       "</table>\n"
      ],
      "text/latex": [
       "\\begin{tabular}{r|lllllllll}\n",
       " Pregnancies & Glucose & BloodPressure & SkinThickness & Insulin & BMI & DiabetesPedigreeFunction & Age & Outcome\\\\\n",
       "\\hline\n",
       "\t 6     & 148   & 72    & 35    &   0   & 33.6  & 0.627 & 50    & 1    \\\\\n",
       "\t 1     &  85   & 66    & 29    &   0   & 26.6  & 0.351 & 31    & 0    \\\\\n",
       "\t 8     & 183   & 64    &  0    &   0   & 23.3  & 0.672 & 32    & 1    \\\\\n",
       "\t 1     &  89   & 66    & 23    &  94   & 28.1  & 0.167 & 21    & 0    \\\\\n",
       "\t 0     & 137   & 40    & 35    & 168   & 43.1  & 2.288 & 33    & 1    \\\\\n",
       "\\end{tabular}\n"
      ],
      "text/markdown": [
       "\n",
       "| Pregnancies | Glucose | BloodPressure | SkinThickness | Insulin | BMI | DiabetesPedigreeFunction | Age | Outcome |\n",
       "|---|---|---|---|---|---|---|---|---|\n",
       "| 6     | 148   | 72    | 35    |   0   | 33.6  | 0.627 | 50    | 1     |\n",
       "| 1     |  85   | 66    | 29    |   0   | 26.6  | 0.351 | 31    | 0     |\n",
       "| 8     | 183   | 64    |  0    |   0   | 23.3  | 0.672 | 32    | 1     |\n",
       "| 1     |  89   | 66    | 23    |  94   | 28.1  | 0.167 | 21    | 0     |\n",
       "| 0     | 137   | 40    | 35    | 168   | 43.1  | 2.288 | 33    | 1     |\n",
       "\n"
      ],
      "text/plain": [
       "  Pregnancies Glucose BloodPressure SkinThickness Insulin BMI \n",
       "1 6           148     72            35              0     33.6\n",
       "2 1            85     66            29              0     26.6\n",
       "3 8           183     64             0              0     23.3\n",
       "4 1            89     66            23             94     28.1\n",
       "5 0           137     40            35            168     43.1\n",
       "  DiabetesPedigreeFunction Age Outcome\n",
       "1 0.627                    50  1      \n",
       "2 0.351                    31  0      \n",
       "3 0.672                    32  1      \n",
       "4 0.167                    21  0      \n",
       "5 2.288                    33  1      "
      ]
     },
     "metadata": {},
     "output_type": "display_data"
    },
    {
     "name": "stdout",
     "output_type": "stream",
     "text": [
      "Observations: 768\n",
      "Variables: 9\n",
      "$ Pregnancies              <int> 6, 1, 8, 1, 0, 5, 3, 10, 2, 8, 4, 10, 10, ...\n",
      "$ Glucose                  <int> 148, 85, 183, 89, 137, 116, 78, 115, 197, ...\n",
      "$ BloodPressure            <int> 72, 66, 64, 66, 40, 74, 50, 0, 70, 96, 92,...\n",
      "$ SkinThickness            <int> 35, 29, 0, 23, 35, 0, 32, 0, 45, 0, 0, 0, ...\n",
      "$ Insulin                  <int> 0, 0, 0, 94, 168, 0, 88, 0, 543, 0, 0, 0, ...\n",
      "$ BMI                      <dbl> 33.6, 26.6, 23.3, 28.1, 43.1, 25.6, 31.0, ...\n",
      "$ DiabetesPedigreeFunction <dbl> 0.627, 0.351, 0.672, 0.167, 2.288, 0.201, ...\n",
      "$ Age                      <int> 50, 31, 32, 21, 33, 30, 26, 29, 53, 54, 30...\n",
      "$ Outcome                  <int> 1, 0, 1, 0, 1, 0, 1, 0, 1, 1, 0, 1, 0, 1, ...\n"
     ]
    },
    {
     "data": {
      "text/plain": [
       "  Pregnancies        Glucose      BloodPressure    SkinThickness  \n",
       " Min.   : 0.000   Min.   :  0.0   Min.   :  0.00   Min.   : 0.00  \n",
       " 1st Qu.: 1.000   1st Qu.: 99.0   1st Qu.: 62.00   1st Qu.: 0.00  \n",
       " Median : 3.000   Median :117.0   Median : 72.00   Median :23.00  \n",
       " Mean   : 3.845   Mean   :120.9   Mean   : 69.11   Mean   :20.54  \n",
       " 3rd Qu.: 6.000   3rd Qu.:140.2   3rd Qu.: 80.00   3rd Qu.:32.00  \n",
       " Max.   :17.000   Max.   :199.0   Max.   :122.00   Max.   :99.00  \n",
       "    Insulin           BMI        DiabetesPedigreeFunction      Age       \n",
       " Min.   :  0.0   Min.   : 0.00   Min.   :0.0780           Min.   :21.00  \n",
       " 1st Qu.:  0.0   1st Qu.:27.30   1st Qu.:0.2437           1st Qu.:24.00  \n",
       " Median : 30.5   Median :32.00   Median :0.3725           Median :29.00  \n",
       " Mean   : 79.8   Mean   :31.99   Mean   :0.4719           Mean   :33.24  \n",
       " 3rd Qu.:127.2   3rd Qu.:36.60   3rd Qu.:0.6262           3rd Qu.:41.00  \n",
       " Max.   :846.0   Max.   :67.10   Max.   :2.4200           Max.   :81.00  \n",
       "    Outcome     \n",
       " Min.   :0.000  \n",
       " 1st Qu.:0.000  \n",
       " Median :0.000  \n",
       " Mean   :0.349  \n",
       " 3rd Qu.:1.000  \n",
       " Max.   :1.000  "
      ]
     },
     "metadata": {},
     "output_type": "display_data"
    },
    {
     "data": {
      "text/html": [
       "<dl class=dl-horizontal>\n",
       "\t<dt>Pregnancies</dt>\n",
       "\t\t<dd>0</dd>\n",
       "\t<dt>Glucose</dt>\n",
       "\t\t<dd>0</dd>\n",
       "\t<dt>BloodPressure</dt>\n",
       "\t\t<dd>0</dd>\n",
       "\t<dt>SkinThickness</dt>\n",
       "\t\t<dd>0</dd>\n",
       "\t<dt>Insulin</dt>\n",
       "\t\t<dd>0</dd>\n",
       "\t<dt>BMI</dt>\n",
       "\t\t<dd>0</dd>\n",
       "\t<dt>DiabetesPedigreeFunction</dt>\n",
       "\t\t<dd>0</dd>\n",
       "\t<dt>Age</dt>\n",
       "\t\t<dd>0</dd>\n",
       "\t<dt>Outcome</dt>\n",
       "\t\t<dd>0</dd>\n",
       "</dl>\n"
      ],
      "text/latex": [
       "\\begin{description*}\n",
       "\\item[Pregnancies] 0\n",
       "\\item[Glucose] 0\n",
       "\\item[BloodPressure] 0\n",
       "\\item[SkinThickness] 0\n",
       "\\item[Insulin] 0\n",
       "\\item[BMI] 0\n",
       "\\item[DiabetesPedigreeFunction] 0\n",
       "\\item[Age] 0\n",
       "\\item[Outcome] 0\n",
       "\\end{description*}\n"
      ],
      "text/markdown": [
       "Pregnancies\n",
       ":   0Glucose\n",
       ":   0BloodPressure\n",
       ":   0SkinThickness\n",
       ":   0Insulin\n",
       ":   0BMI\n",
       ":   0DiabetesPedigreeFunction\n",
       ":   0Age\n",
       ":   0Outcome\n",
       ":   0\n",
       "\n"
      ],
      "text/plain": [
       "             Pregnancies                  Glucose            BloodPressure \n",
       "                       0                        0                        0 \n",
       "           SkinThickness                  Insulin                      BMI \n",
       "                       0                        0                        0 \n",
       "DiabetesPedigreeFunction                      Age                  Outcome \n",
       "                       0                        0                        0 "
      ]
     },
     "metadata": {},
     "output_type": "display_data"
    }
   ],
   "source": [
    "# A glimpse and summary of the data set\n",
    "head(diabetes_data, 5)\n",
    "glimpse(diabetes_data)\n",
    "summary(diabetes_data)\n",
    "\n",
    "#checking for any missing values\n",
    "colSums(is.na(diabetes_data))"
   ]
  },
  {
   "cell_type": "markdown",
   "metadata": {},
   "source": [
    "## 2. Preparing environment and ensuring correct data types before exploratory data analysis"
   ]
  },
  {
   "cell_type": "code",
   "execution_count": 5,
   "metadata": {},
   "outputs": [
    {
     "data": {
      "text/html": [
       "<table>\n",
       "<thead><tr><th scope=col>Pregnancies</th><th scope=col>Glucose</th><th scope=col>BloodPressure</th><th scope=col>SkinThickness</th><th scope=col>Insulin</th><th scope=col>BMI</th><th scope=col>DiabetesPedigreeFunction</th><th scope=col>Age</th><th scope=col>Outcome</th><th scope=col>diabetic</th></tr></thead>\n",
       "<tbody>\n",
       "\t<tr><td>6    </td><td>148  </td><td>72   </td><td>35   </td><td>  0  </td><td>33.6 </td><td>0.627</td><td>50   </td><td>1    </td><td>1    </td></tr>\n",
       "\t<tr><td>1    </td><td> 85  </td><td>66   </td><td>29   </td><td>  0  </td><td>26.6 </td><td>0.351</td><td>31   </td><td>0    </td><td>0    </td></tr>\n",
       "\t<tr><td>8    </td><td>183  </td><td>64   </td><td> 0   </td><td>  0  </td><td>23.3 </td><td>0.672</td><td>32   </td><td>1    </td><td>1    </td></tr>\n",
       "\t<tr><td>1    </td><td> 89  </td><td>66   </td><td>23   </td><td> 94  </td><td>28.1 </td><td>0.167</td><td>21   </td><td>0    </td><td>0    </td></tr>\n",
       "\t<tr><td>0    </td><td>137  </td><td>40   </td><td>35   </td><td>168  </td><td>43.1 </td><td>2.288</td><td>33   </td><td>1    </td><td>1    </td></tr>\n",
       "</tbody>\n",
       "</table>\n"
      ],
      "text/latex": [
       "\\begin{tabular}{r|llllllllll}\n",
       " Pregnancies & Glucose & BloodPressure & SkinThickness & Insulin & BMI & DiabetesPedigreeFunction & Age & Outcome & diabetic\\\\\n",
       "\\hline\n",
       "\t 6     & 148   & 72    & 35    &   0   & 33.6  & 0.627 & 50    & 1     & 1    \\\\\n",
       "\t 1     &  85   & 66    & 29    &   0   & 26.6  & 0.351 & 31    & 0     & 0    \\\\\n",
       "\t 8     & 183   & 64    &  0    &   0   & 23.3  & 0.672 & 32    & 1     & 1    \\\\\n",
       "\t 1     &  89   & 66    & 23    &  94   & 28.1  & 0.167 & 21    & 0     & 0    \\\\\n",
       "\t 0     & 137   & 40    & 35    & 168   & 43.1  & 2.288 & 33    & 1     & 1    \\\\\n",
       "\\end{tabular}\n"
      ],
      "text/markdown": [
       "\n",
       "| Pregnancies | Glucose | BloodPressure | SkinThickness | Insulin | BMI | DiabetesPedigreeFunction | Age | Outcome | diabetic |\n",
       "|---|---|---|---|---|---|---|---|---|---|\n",
       "| 6     | 148   | 72    | 35    |   0   | 33.6  | 0.627 | 50    | 1     | 1     |\n",
       "| 1     |  85   | 66    | 29    |   0   | 26.6  | 0.351 | 31    | 0     | 0     |\n",
       "| 8     | 183   | 64    |  0    |   0   | 23.3  | 0.672 | 32    | 1     | 1     |\n",
       "| 1     |  89   | 66    | 23    |  94   | 28.1  | 0.167 | 21    | 0     | 0     |\n",
       "| 0     | 137   | 40    | 35    | 168   | 43.1  | 2.288 | 33    | 1     | 1     |\n",
       "\n"
      ],
      "text/plain": [
       "  Pregnancies Glucose BloodPressure SkinThickness Insulin BMI \n",
       "1 6           148     72            35              0     33.6\n",
       "2 1            85     66            29              0     26.6\n",
       "3 8           183     64             0              0     23.3\n",
       "4 1            89     66            23             94     28.1\n",
       "5 0           137     40            35            168     43.1\n",
       "  DiabetesPedigreeFunction Age Outcome diabetic\n",
       "1 0.627                    50  1       1       \n",
       "2 0.351                    31  0       0       \n",
       "3 0.672                    32  1       1       \n",
       "4 0.167                    21  0       0       \n",
       "5 2.288                    33  1       1       "
      ]
     },
     "metadata": {},
     "output_type": "display_data"
    },
    {
     "name": "stdout",
     "output_type": "stream",
     "text": [
      "Observations: 768\n",
      "Variables: 10\n",
      "$ Pregnancies              <int> 6, 1, 8, 1, 0, 5, 3, 10, 2, 8, 4, 10, 10, ...\n",
      "$ Glucose                  <int> 148, 85, 183, 89, 137, 116, 78, 115, 197, ...\n",
      "$ BloodPressure            <int> 72, 66, 64, 66, 40, 74, 50, 0, 70, 96, 92,...\n",
      "$ SkinThickness            <int> 35, 29, 0, 23, 35, 0, 32, 0, 45, 0, 0, 0, ...\n",
      "$ Insulin                  <int> 0, 0, 0, 94, 168, 0, 88, 0, 543, 0, 0, 0, ...\n",
      "$ BMI                      <dbl> 33.6, 26.6, 23.3, 28.1, 43.1, 25.6, 31.0, ...\n",
      "$ DiabetesPedigreeFunction <dbl> 0.627, 0.351, 0.672, 0.167, 2.288, 0.201, ...\n",
      "$ Age                      <int> 50, 31, 32, 21, 33, 30, 26, 29, 53, 54, 30...\n",
      "$ Outcome                  <int> 1, 0, 1, 0, 1, 0, 1, 0, 1, 1, 0, 1, 0, 1, ...\n",
      "$ diabetic                 <dbl> 1, 0, 1, 0, 1, 0, 1, 0, 1, 1, 0, 1, 0, 1, ...\n"
     ]
    }
   ],
   "source": [
    "#we notice the 0's in the dataset which although are not NA or NULLS, these data points can skew our model\n",
    "#so it is best that we get rid of these observations that include 0's specifically for columns \"Glucose\" to \"DiabetesPedigreeFunction\"\n",
    "\n",
    "\n",
    "\n",
    "# Use the 'mutate' function from dplyr package to recode the data and add it into our dataset as a new column\n",
    "\n",
    "diabetes_data %>% mutate(Diabetic = ifelse(Outcome > 0, 1, 0))-> diabetes_data\n",
    "\n",
    "#notice the new column marked as diabetic\n",
    "\n",
    "head(diabetes_data, 5)\n",
    "glimpse(diabetes_data)"
   ]
  },
  {
   "cell_type": "code",
   "execution_count": null,
   "metadata": {},
   "outputs": [],
   "source": []
  },
  {
   "cell_type": "markdown",
   "metadata": {},
   "source": [
    "## Using t-tests to see which variables are key predictors associated with diabetes."
   ]
  },
  {
   "cell_type": "code",
   "execution_count": 8,
   "metadata": {},
   "outputs": [
    {
     "name": "stdout",
     "output_type": "stream",
     "text": [
      "\n",
      "\tWelch Two Sample t-test\n",
      "\n",
      "data:  diabetes_data$Age by diabetes_data$diabetic\n",
      "t = -6.9207, df = 575.78, p-value = 1.202e-11\n",
      "alternative hypothesis: true difference in means is not equal to 0\n",
      "95 percent confidence interval:\n",
      " -7.545092 -4.209236\n",
      "sample estimates:\n",
      "mean in group 0 mean in group 1 \n",
      "       31.19000        37.06716 \n",
      "\n",
      "\n",
      "\tWelch Two Sample t-test\n",
      "\n",
      "data:  diabetes_data$Glucose by diabetes_data$diabetic\n",
      "t = -13.752, df = 461.33, p-value < 2.2e-16\n",
      "alternative hypothesis: true difference in means is not equal to 0\n",
      "95 percent confidence interval:\n",
      " -35.74707 -26.80786\n",
      "sample estimates:\n",
      "mean in group 0 mean in group 1 \n",
      "       109.9800        141.2575 \n",
      "\n",
      "\n",
      "\tWelch Two Sample t-test\n",
      "\n",
      "data:  diabetes_data$BMI by diabetes_data$diabetic\n",
      "t = -8.6193, df = 573.47, p-value < 2.2e-16\n",
      "alternative hypothesis: true difference in means is not equal to 0\n",
      "95 percent confidence interval:\n",
      " -5.940864 -3.735811\n",
      "sample estimates:\n",
      "mean in group 0 mean in group 1 \n",
      "       30.30420        35.14254 \n",
      "\n"
     ]
    }
   ],
   "source": [
    "\n",
    "# Does age have an effect? Age is continuous, so we use a t-test\n",
    "diabetes_Age <- t.test(diabetes_data$Age ~ diabetes_data$diabetic)\n",
    "\n",
    "# what about skin thickness? Im curious and since it is also a continuous variableAge we use a t-test\n",
    "diabetes_Glucose <- t.test(diabetes_data$Glucose ~ diabetes_data$diabetic)\n",
    "\n",
    "# BMI? BMI is also continuous so we can use a t-test\n",
    "diabetes_BMI <- t.test(diabetes_data$BMI ~ diabetes_data$diabetic)\n",
    "\n",
    "# Print the results to see if p<0.05.\n",
    "print(diabetes_Age)\n",
    "print(diabetes_Glucose)\n",
    "print(diabetes_BMI)"
   ]
  },
  {
   "cell_type": "markdown",
   "metadata": {},
   "source": [
    "## Visual Exploration"
   ]
  },
  {
   "cell_type": "code",
   "execution_count": 42,
   "metadata": {
    "scrolled": false
   },
   "outputs": [
    {
     "data": {
      "image/png": "[encoded data removed]",
      "text/plain": [
       "plot without title"
      ]
     },
     "metadata": {},
     "output_type": "display_data"
    }
   ],
   "source": [
    "#lets check out the correlation between these predictors, we can use a correlogram \n",
    "\n",
    "\n",
    "corr<-round(cor(diabetes_data),1)\n",
    "\n",
    "ggcorrplot(corr, hc.order = TRUE, \n",
    "           type = \"lower\", \n",
    "           lab = TRUE, \n",
    "           lab_size = 3, \n",
    "           method=\"circle\", \n",
    "           colors = c(\"red\", \"white\", \"blue\"), \n",
    "           title=\"Correlogram of Variables\", \n",
    "           ggtheme=theme_bw)\n",
    "\n"
   ]
  },
  {
   "cell_type": "code",
   "execution_count": null,
   "metadata": {},
   "outputs": [],
   "source": [
    "#we can also use boxplots"
   ]
  },
  {
   "cell_type": "markdown",
   "metadata": {},
   "source": [
    "## NOTES:\n",
    "- Could use a sex variable in the future"
   ]
  },
  {
   "cell_type": "code",
   "execution_count": 40,
   "metadata": {
    "scrolled": true
   },
   "outputs": [
    {
     "name": "stdout",
     "output_type": "stream",
     "text": [
      "package 'ggcorrplot' successfully unpacked and MD5 sums checked\n",
      "\n",
      "The downloaded binary packages are in\n",
      "\tC:\\Users\\Rumil\\AppData\\Local\\Temp\\RtmpOeeg5x\\downloaded_packages\n"
     ]
    },
    {
     "name": "stderr",
     "output_type": "stream",
     "text": [
      "Warning message:\n",
      "\"package 'ggcorrplot' was built under R version 3.6.2\""
     ]
    }
   ],
   "source": []
  },
  {
   "cell_type": "code",
   "execution_count": 36,
   "metadata": {},
   "outputs": [],
   "source": []
  },
  {
   "cell_type": "code",
   "execution_count": 30,
   "metadata": {},
   "outputs": [
    {
     "data": {
      "text/html": [
       "<table>\n",
       "<thead><tr><th></th><th scope=col>Pregnancies</th><th scope=col>Glucose</th><th scope=col>BloodPressure</th><th scope=col>SkinThickness</th><th scope=col>Insulin</th><th scope=col>BMI</th><th scope=col>DiabetesPedigreeFunction</th><th scope=col>Age</th><th scope=col>Outcome</th></tr></thead>\n",
       "<tbody>\n",
       "\t<tr><th scope=row>Pregnancies</th><td> 1.00000000</td><td>0.12945867 </td><td>0.14128198 </td><td>-0.08167177</td><td>-0.07353461</td><td>0.01768309 </td><td>-0.03352267</td><td> 0.54434123</td><td>0.22189815 </td></tr>\n",
       "\t<tr><th scope=row>Glucose</th><td> 0.12945867</td><td>1.00000000 </td><td>0.15258959 </td><td> 0.05732789</td><td> 0.33135711</td><td>0.22107107 </td><td> 0.13733730</td><td> 0.26351432</td><td>0.46658140 </td></tr>\n",
       "\t<tr><th scope=row>BloodPressure</th><td> 0.14128198</td><td>0.15258959 </td><td>1.00000000 </td><td> 0.20737054</td><td> 0.08893338</td><td>0.28180529 </td><td> 0.04126495</td><td> 0.23952795</td><td>0.06506836 </td></tr>\n",
       "\t<tr><th scope=row>SkinThickness</th><td>-0.08167177</td><td>0.05732789 </td><td>0.20737054 </td><td> 1.00000000</td><td> 0.43678257</td><td>0.39257320 </td><td> 0.18392757</td><td>-0.11397026</td><td>0.07475223 </td></tr>\n",
       "\t<tr><th scope=row>Insulin</th><td>-0.07353461</td><td>0.33135711 </td><td>0.08893338 </td><td> 0.43678257</td><td> 1.00000000</td><td>0.19785906 </td><td> 0.18507093</td><td>-0.04216295</td><td>0.13054795 </td></tr>\n",
       "\t<tr><th scope=row>BMI</th><td> 0.01768309</td><td>0.22107107 </td><td>0.28180529 </td><td> 0.39257320</td><td> 0.19785906</td><td>1.00000000 </td><td> 0.14064695</td><td> 0.03624187</td><td>0.29269466 </td></tr>\n",
       "\t<tr><th scope=row>DiabetesPedigreeFunction</th><td>-0.03352267</td><td>0.13733730 </td><td>0.04126495 </td><td> 0.18392757</td><td> 0.18507093</td><td>0.14064695 </td><td> 1.00000000</td><td> 0.03356131</td><td>0.17384407 </td></tr>\n",
       "\t<tr><th scope=row>Age</th><td> 0.54434123</td><td>0.26351432 </td><td>0.23952795 </td><td>-0.11397026</td><td>-0.04216295</td><td>0.03624187 </td><td> 0.03356131</td><td> 1.00000000</td><td>0.23835598 </td></tr>\n",
       "\t<tr><th scope=row>Outcome</th><td> 0.22189815</td><td>0.46658140 </td><td>0.06506836 </td><td> 0.07475223</td><td> 0.13054795</td><td>0.29269466 </td><td> 0.17384407</td><td> 0.23835598</td><td>1.00000000 </td></tr>\n",
       "</tbody>\n",
       "</table>\n"
      ],
      "text/latex": [
       "\\begin{tabular}{r|lllllllll}\n",
       "  & Pregnancies & Glucose & BloodPressure & SkinThickness & Insulin & BMI & DiabetesPedigreeFunction & Age & Outcome\\\\\n",
       "\\hline\n",
       "\tPregnancies &  1.00000000 & 0.12945867  & 0.14128198  & -0.08167177 & -0.07353461 & 0.01768309  & -0.03352267 &  0.54434123 & 0.22189815 \\\\\n",
       "\tGlucose &  0.12945867 & 1.00000000  & 0.15258959  &  0.05732789 &  0.33135711 & 0.22107107  &  0.13733730 &  0.26351432 & 0.46658140 \\\\\n",
       "\tBloodPressure &  0.14128198 & 0.15258959  & 1.00000000  &  0.20737054 &  0.08893338 & 0.28180529  &  0.04126495 &  0.23952795 & 0.06506836 \\\\\n",
       "\tSkinThickness & -0.08167177 & 0.05732789  & 0.20737054  &  1.00000000 &  0.43678257 & 0.39257320  &  0.18392757 & -0.11397026 & 0.07475223 \\\\\n",
       "\tInsulin & -0.07353461 & 0.33135711  & 0.08893338  &  0.43678257 &  1.00000000 & 0.19785906  &  0.18507093 & -0.04216295 & 0.13054795 \\\\\n",
       "\tBMI &  0.01768309 & 0.22107107  & 0.28180529  &  0.39257320 &  0.19785906 & 1.00000000  &  0.14064695 &  0.03624187 & 0.29269466 \\\\\n",
       "\tDiabetesPedigreeFunction & -0.03352267 & 0.13733730  & 0.04126495  &  0.18392757 &  0.18507093 & 0.14064695  &  1.00000000 &  0.03356131 & 0.17384407 \\\\\n",
       "\tAge &  0.54434123 & 0.26351432  & 0.23952795  & -0.11397026 & -0.04216295 & 0.03624187  &  0.03356131 &  1.00000000 & 0.23835598 \\\\\n",
       "\tOutcome &  0.22189815 & 0.46658140  & 0.06506836  &  0.07475223 &  0.13054795 & 0.29269466  &  0.17384407 &  0.23835598 & 1.00000000 \\\\\n",
       "\\end{tabular}\n"
      ],
      "text/markdown": [
       "\n",
       "| <!--/--> | Pregnancies | Glucose | BloodPressure | SkinThickness | Insulin | BMI | DiabetesPedigreeFunction | Age | Outcome |\n",
       "|---|---|---|---|---|---|---|---|---|---|\n",
       "| Pregnancies |  1.00000000 | 0.12945867  | 0.14128198  | -0.08167177 | -0.07353461 | 0.01768309  | -0.03352267 |  0.54434123 | 0.22189815  |\n",
       "| Glucose |  0.12945867 | 1.00000000  | 0.15258959  |  0.05732789 |  0.33135711 | 0.22107107  |  0.13733730 |  0.26351432 | 0.46658140  |\n",
       "| BloodPressure |  0.14128198 | 0.15258959  | 1.00000000  |  0.20737054 |  0.08893338 | 0.28180529  |  0.04126495 |  0.23952795 | 0.06506836  |\n",
       "| SkinThickness | -0.08167177 | 0.05732789  | 0.20737054  |  1.00000000 |  0.43678257 | 0.39257320  |  0.18392757 | -0.11397026 | 0.07475223  |\n",
       "| Insulin | -0.07353461 | 0.33135711  | 0.08893338  |  0.43678257 |  1.00000000 | 0.19785906  |  0.18507093 | -0.04216295 | 0.13054795  |\n",
       "| BMI |  0.01768309 | 0.22107107  | 0.28180529  |  0.39257320 |  0.19785906 | 1.00000000  |  0.14064695 |  0.03624187 | 0.29269466  |\n",
       "| DiabetesPedigreeFunction | -0.03352267 | 0.13733730  | 0.04126495  |  0.18392757 |  0.18507093 | 0.14064695  |  1.00000000 |  0.03356131 | 0.17384407  |\n",
       "| Age |  0.54434123 | 0.26351432  | 0.23952795  | -0.11397026 | -0.04216295 | 0.03624187  |  0.03356131 |  1.00000000 | 0.23835598  |\n",
       "| Outcome |  0.22189815 | 0.46658140  | 0.06506836  |  0.07475223 |  0.13054795 | 0.29269466  |  0.17384407 |  0.23835598 | 1.00000000  |\n",
       "\n"
      ],
      "text/plain": [
       "                         Pregnancies Glucose    BloodPressure SkinThickness\n",
       "Pregnancies               1.00000000 0.12945867 0.14128198    -0.08167177  \n",
       "Glucose                   0.12945867 1.00000000 0.15258959     0.05732789  \n",
       "BloodPressure             0.14128198 0.15258959 1.00000000     0.20737054  \n",
       "SkinThickness            -0.08167177 0.05732789 0.20737054     1.00000000  \n",
       "Insulin                  -0.07353461 0.33135711 0.08893338     0.43678257  \n",
       "BMI                       0.01768309 0.22107107 0.28180529     0.39257320  \n",
       "DiabetesPedigreeFunction -0.03352267 0.13733730 0.04126495     0.18392757  \n",
       "Age                       0.54434123 0.26351432 0.23952795    -0.11397026  \n",
       "Outcome                   0.22189815 0.46658140 0.06506836     0.07475223  \n",
       "                         Insulin     BMI        DiabetesPedigreeFunction\n",
       "Pregnancies              -0.07353461 0.01768309 -0.03352267             \n",
       "Glucose                   0.33135711 0.22107107  0.13733730             \n",
       "BloodPressure             0.08893338 0.28180529  0.04126495             \n",
       "SkinThickness             0.43678257 0.39257320  0.18392757             \n",
       "Insulin                   1.00000000 0.19785906  0.18507093             \n",
       "BMI                       0.19785906 1.00000000  0.14064695             \n",
       "DiabetesPedigreeFunction  0.18507093 0.14064695  1.00000000             \n",
       "Age                      -0.04216295 0.03624187  0.03356131             \n",
       "Outcome                   0.13054795 0.29269466  0.17384407             \n",
       "                         Age         Outcome   \n",
       "Pregnancies               0.54434123 0.22189815\n",
       "Glucose                   0.26351432 0.46658140\n",
       "BloodPressure             0.23952795 0.06506836\n",
       "SkinThickness            -0.11397026 0.07475223\n",
       "Insulin                  -0.04216295 0.13054795\n",
       "BMI                       0.03624187 0.29269466\n",
       "DiabetesPedigreeFunction  0.03356131 0.17384407\n",
       "Age                       1.00000000 0.23835598\n",
       "Outcome                   0.23835598 1.00000000"
      ]
     },
     "metadata": {},
     "output_type": "display_data"
    }
   ],
   "source": []
  }
 ],
 "metadata": {
  "kernelspec": {
   "display_name": "R",
   "language": "R",
   "name": "ir"
  },
  "language_info": {
   "codemirror_mode": "r",
   "file_extension": ".r",
   "mimetype": "text/x-r-source",
   "name": "R",
   "pygments_lexer": "r",
   "version": "3.6.1"
  }
 },
 "nbformat": 4,
 "nbformat_minor": 2
}
